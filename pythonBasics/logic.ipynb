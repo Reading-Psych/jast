{
  "cells": [
    {
      "cell_type": "raw",
      "metadata": {},
      "source": [
        "---\n",
        "title: \"Python Logic\"\n",
        "format: html\n",
        "editor: visual\n",
        "---"
      ],
      "id": "76f39de2"
    },
    {
      "cell_type": "markdown",
      "metadata": {},
      "source": [
        "## Greater and less than using \\> and \\<\n",
        "\n",
        "If you want to see if one **object** is larger than (\\>) or smaller (\\<) than another object, you can use the \\> and \\< operators:\n"
      ],
      "id": "e939da2e"
    },
    {
      "cell_type": "code",
      "metadata": {},
      "source": [
        "1 > 2"
      ],
      "id": "5b5e2035",
      "execution_count": null,
      "outputs": []
    },
    {
      "cell_type": "markdown",
      "metadata": {},
      "source": [
        "Unsurprising that the above is false, as 1 is **not greater than** 2. Lets double check if 1 is less than 2:\n"
      ],
      "id": "4aa489fb"
    },
    {
      "cell_type": "code",
      "metadata": {},
      "source": [
        "1 < 2"
      ],
      "id": "0d30848d",
      "execution_count": null,
      "outputs": []
    },
    {
      "cell_type": "markdown",
      "metadata": {},
      "source": [
        "## Comparing values using ==\n",
        "\n",
        "If you want to see if 2 **objects** are the same, then you can use ==. Lets check if 1 is the same as 2:\n"
      ],
      "id": "79cd806e"
    },
    {
      "cell_type": "code",
      "metadata": {},
      "source": [
        "2 == 1"
      ],
      "id": "a090e59e",
      "execution_count": null,
      "outputs": []
    },
    {
      "cell_type": "markdown",
      "metadata": {},
      "source": [
        "Unsurprisingly, 2 is not the same as 1. Lets see if 3/2 is the same as 1.5:\n"
      ],
      "id": "e3a14c71"
    },
    {
      "cell_type": "code",
      "metadata": {},
      "source": [
        "3/2 == 1.5"
      ],
      "id": "41b7c37e",
      "execution_count": null,
      "outputs": []
    },
    {
      "cell_type": "markdown",
      "metadata": {},
      "source": [
        "Great! What you're more likely to want to do is to compare a list to a value. So let's imagine that you have asked your participants a question, and have a **list** that identifies whether someone got an answer correct or not. Let's compare that list to the word \"correct\":\n"
      ],
      "id": "68573a63"
    },
    {
      "cell_type": "code",
      "metadata": {},
      "source": [
        "# import numpy as np\n",
        "# correct_vector = np.array([\"correct\", \"incorrect\", \"correct\"])\n",
        "# correct_vector == \"correct\""
      ],
      "id": "02885787",
      "execution_count": null,
      "outputs": []
    },
    {
      "cell_type": "markdown",
      "metadata": {},
      "source": [
        "This creates an **logical vector** of **TRUE** and **FALSE** values. Let's use this now to select data:\n",
        "\n",
        "## Indexing/Selecting data\n",
        "\n",
        "Sometimes you want to only focus on certain data, and **indexing** is a way to do this. We're now going to create a data frame for a participant who has completed 3 trials of a reaction time task. This will include whether they were correct or not, and what their response time is. We will then using indexing to select the response times when the participant was correct:\n"
      ],
      "id": "939357d0"
    },
    {
      "cell_type": "code",
      "metadata": {},
      "source": [
        "# load the markdownTable module \n",
        "from markdownTable import markdownTable\n",
        "import pandas as pd\n",
        "\n",
        "response_table ={'accuracy': correct_vector,\n",
        "  'response_times': [100, 105, 180]}\n",
        "  \n",
        "response_table = pd.DataFrame(response_table)\n",
        "\n",
        "response_table\n",
        "\n",
        "# create an index using the logical \"same as\" operator\n",
        "response_table[\"response_times\"][response_table[\"accuracy\"]==\"correct\"]"
      ],
      "id": "4525c7e7",
      "execution_count": null,
      "outputs": []
    },
    {
      "cell_type": "markdown",
      "metadata": {},
      "source": [
        "Indexing is useful to remove unwanted data. In this case, most researchers think that response times when a participant makes an invalid response are not very informative, so they remove those response times using indexing above.\n",
        "\n",
        "## ! to reverse logic\n",
        "\n",
        "Sometimes you'll want to flip the logic so that you get a FALSE when it would be TRUE, or TRUE when it would be FALSE. To do this, put in either a != instead of ==:\n"
      ],
      "id": "8bb8be08"
    },
    {
      "cell_type": "code",
      "metadata": {},
      "source": [
        "1 != 2"
      ],
      "id": "aac3ca74",
      "execution_count": null,
      "outputs": []
    },
    {
      "cell_type": "markdown",
      "metadata": {},
      "source": [
        "or a ! before the logical object or statement that you want to reverse:\n"
      ],
      "id": "76c7c090"
    },
    {
      "cell_type": "code",
      "metadata": {},
      "source": [
        "[i for i, x in enumerate(correct_vector) if x == \"correct\"]\n",
        "[i for i, x in enumerate(correct_vector) if x != \"correct\"]"
      ],
      "id": "3447b27a",
      "execution_count": null,
      "outputs": []
    },
    {
      "cell_type": "markdown",
      "metadata": {},
      "source": [
        "## And using &\n",
        "\n",
        "If you want to get a TRUE outcome only if multiple statements are all TRUE, then you can use the \"&\" operator. Lets imagine you want to only focus on responses in your data that are correct AND quick enough i.e. less than 1000ms:\n"
      ],
      "id": "15751d35"
    },
    {
      "cell_type": "code",
      "metadata": {},
      "source": [
        "response_table[\"response_times_vector\"] = np.array([1200,600,800])\n",
        "response_table.loc[(response_table['response_times_vector']<1000) & (response_table['accuracy']=='correct')]"
      ],
      "id": "bdbe4ceb",
      "execution_count": null,
      "outputs": []
    },
    {
      "cell_type": "markdown",
      "metadata": {},
      "source": [
        "So only the third response was both correct and quick enough.\n",
        "\n",
        "## OR using \\|\n",
        "\n",
        "OR statements can be used to get a TRUE outcome if at least one of the logical statements is TRUE. Lets imagine that you were trying to select a subset of participants who either were colorblind or wore glasses. Your data might look like this:\n"
      ],
      "id": "e4ab3b93"
    },
    {
      "cell_type": "code",
      "metadata": {},
      "source": [
        "eyesight_data ={\n",
        "  \"participant_number\" : [1,2,3,4,5],\n",
        "  \"eyesight\"           : [\"colorblind\",\"colorblind\",\"uncorrected\",\"uncorrected\",\"glasses\"]\n",
        "}\n",
        "eyesight_data = pd.DataFrame(eyesight_data)\n",
        "\n",
        "eyesight_data"
      ],
      "id": "0bde0ab0",
      "execution_count": null,
      "outputs": []
    },
    {
      "cell_type": "markdown",
      "metadata": {},
      "source": [
        "If we just wanted the rows that had people who were colorblind or wore glasess, we could create the following logical vector:\n"
      ],
      "id": "71485487"
    },
    {
      "cell_type": "code",
      "metadata": {},
      "source": [
        "eyesight_data.loc[(eyesight_data['eyesight']==\"colorblind\") | (eyesight_data['eyesight']=='glasses')]"
      ],
      "id": "8fced66a",
      "execution_count": null,
      "outputs": []
    }
  ],
  "metadata": {
    "kernelspec": {
      "name": "python3",
      "language": "python",
      "display_name": "Python 3 (ipykernel)"
    }
  },
  "nbformat": 4,
  "nbformat_minor": 5
}